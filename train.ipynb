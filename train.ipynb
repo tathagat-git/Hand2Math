{
 "cells": [
  {
   "cell_type": "code",
   "execution_count": 19,
   "id": "afd62782",
   "metadata": {},
   "outputs": [],
   "source": [
    "# ==========================\n",
    "# Hand2Math Custom Dataset Training\n",
    "# ==========================\n",
    "\n",
    "import os\n",
    "import numpy as np\n",
    "import cv2\n",
    "import tensorflow as tf\n",
    "from tensorflow.keras import layers, models\n",
    "import matplotlib.pyplot as plt\n",
    "from sklearn.model_selection import train_test_split\n"
   ]
  },
  {
   "cell_type": "code",
   "execution_count": 20,
   "id": "2c9e5721",
   "metadata": {},
   "outputs": [],
   "source": [
    "# --------------------------\n",
    "# 1. Preprocessing Function\n",
    "# --------------------------\n",
    "def preprocess_symbol(path):\n",
    "    \"\"\"Load image, normalize to MNIST style (white symbol on black, 28x28).\"\"\"\n",
    "    img = cv2.imread(path, cv2.IMREAD_GRAYSCALE)\n",
    "    if img is None:\n",
    "        return None\n",
    "\n",
    "    # Invert if background is white\n",
    "    if np.mean(img) > 127:\n",
    "        img = 255 - img\n",
    "\n",
    "    # Threshold (binarize)\n",
    "    _, img = cv2.threshold(img, 50, 255, cv2.THRESH_BINARY)\n",
    "\n",
    "    # Find bounding box\n",
    "    coords = cv2.findNonZero(img)\n",
    "    if coords is None:   # skip empty images\n",
    "        return None\n",
    "    x, y, w, h = cv2.boundingRect(coords)\n",
    "    img = img[y:y+h, x:x+w]\n",
    "\n",
    "    # Resize to 20x20\n",
    "    img = cv2.resize(img, (20,20), interpolation=cv2.INTER_AREA)\n",
    "\n",
    "    # Pad to 28x28\n",
    "    padded = np.zeros((28,28), dtype=np.uint8)\n",
    "    x_offset = (28 - 20) // 2\n",
    "    y_offset = (28 - 20) // 2\n",
    "    padded[y_offset:y_offset+20, x_offset:x_offset+20] = img\n",
    "\n",
    "    # Normalize\n",
    "    padded = padded.astype(\"float32\") / 255.0\n",
    "    return np.expand_dims(padded, -1)\n"
   ]
  },
  {
   "cell_type": "code",
   "execution_count": 21,
   "id": "2a8670df",
   "metadata": {},
   "outputs": [],
   "source": [
    "# --------------------------\n",
    "# 2. Map Labels\n",
    "# --------------------------\n",
    "class_map = {\n",
    "    \"0\": 0, \"1\": 1, \"2\": 2, \"3\": 3, \"4\": 4,\n",
    "    \"5\": 5, \"6\": 6, \"7\": 7, \"8\": 8, \"9\": 9,\n",
    "    \"add\": 10,\n",
    "    \"sub\": 11,\n",
    "    \"mul\": 12,\n",
    "    \"div\": 13,\n",
    "    \"equal\": 14,\n",
    "    \"dec\": 15   # decimal point\n",
    "}\n"
   ]
  },
  {
   "cell_type": "code",
   "execution_count": 22,
   "id": "c04b59a2",
   "metadata": {},
   "outputs": [
    {
     "name": "stdout",
     "output_type": "stream",
     "text": [
      "Dataset shape: (9008, 28, 28, 1) (9008,)\n"
     ]
    }
   ],
   "source": [
    "# --------------------------\n",
    "# 3. Load Dataset\n",
    "# --------------------------\n",
    "base_path = \"./datasets\"\n",
    "imgs, labels = [], []\n",
    "\n",
    "for folder, label in class_map.items():\n",
    "    path = os.path.join(base_path, folder)\n",
    "    if not os.path.exists(path):\n",
    "        continue\n",
    "    for file in os.listdir(path):\n",
    "        file_path = os.path.join(path, file)\n",
    "        arr = preprocess_symbol(file_path)\n",
    "        if arr is not None:\n",
    "            imgs.append(arr)\n",
    "            labels.append(label)\n",
    "\n",
    "X = np.array(imgs)\n",
    "y = np.array(labels)\n",
    "\n",
    "print(\"Dataset shape:\", X.shape, y.shape)\n"
   ]
  },
  {
   "cell_type": "code",
   "execution_count": 23,
   "id": "0b6cdc95",
   "metadata": {},
   "outputs": [
    {
     "data": {
      "image/png": "[encoded data removed]",
      "text/plain": [
       "<Figure size 1200x400 with 12 Axes>"
      ]
     },
     "metadata": {},
     "output_type": "display_data"
    }
   ],
   "source": [
    "# --------------------------\n",
    "# 3.5 Visualize Preprocessed Samples\n",
    "# --------------------------\n",
    "plt.figure(figsize=(12,4))\n",
    "for i in range(12):\n",
    "    idx = np.random.randint(0, len(X))\n",
    "    plt.subplot(2,6,i+1)\n",
    "    plt.imshow(X[idx].reshape(28,28), cmap=\"gray\")\n",
    "    plt.title(list(class_map.keys())[list(class_map.values()).index(y[idx])])\n",
    "    plt.axis(\"off\")\n",
    "plt.suptitle(\"Random Preprocessed Samples\", fontsize=16)\n",
    "plt.show()\n"
   ]
  },
  {
   "cell_type": "code",
   "execution_count": 24,
   "id": "4ac28c7f",
   "metadata": {},
   "outputs": [
    {
     "name": "stdout",
     "output_type": "stream",
     "text": [
      "Train set: (8107, 28, 28, 1) (8107,)\n",
      "Val set: (901, 28, 28, 1) (901,)\n"
     ]
    }
   ],
   "source": [
    "# --------------------------\n",
    "# 4. Train/Test Split\n",
    "# --------------------------\n",
    "X_train, X_val, y_train, y_val = train_test_split(\n",
    "    X, y, test_size=0.1, stratify=y, random_state=42\n",
    ")\n",
    "\n",
    "print(\"Train set:\", X_train.shape, y_train.shape)\n",
    "print(\"Val set:\", X_val.shape, y_val.shape)\n"
   ]
  },
  {
   "cell_type": "code",
   "execution_count": 25,
   "id": "1e30e4a8",
   "metadata": {},
   "outputs": [
    {
     "name": "stderr",
     "output_type": "stream",
     "text": [
      "/home/tathagat/Hand2Math/venv/lib/python3.12/site-packages/keras/src/layers/convolutional/base_conv.py:113: UserWarning: Do not pass an `input_shape`/`input_dim` argument to a layer. When using Sequential models, prefer using an `Input(shape)` object as the first layer in the model instead.\n",
      "  super().__init__(activity_regularizer=activity_regularizer, **kwargs)\n"
     ]
    },
    {
     "data": {
      "text/html": [
       "<pre style=\"white-space:pre;overflow-x:auto;line-height:normal;font-family:Menlo,'DejaVu Sans Mono',consolas,'Courier New',monospace\"><span style=\"font-weight: bold\">Model: \"sequential_2\"</span>\n",
       "</pre>\n"
      ],
      "text/plain": [
       "\u001b[1mModel: \"sequential_2\"\u001b[0m\n"
      ]
     },
     "metadata": {},
     "output_type": "display_data"
    },
    {
     "data": {
      "text/html": [
       "<pre style=\"white-space:pre;overflow-x:auto;line-height:normal;font-family:Menlo,'DejaVu Sans Mono',consolas,'Courier New',monospace\">┏━━━━━━━━━━━━━━━━━━━━━━━━━━━━━━━━━┳━━━━━━━━━━━━━━━━━━━━━━━━┳━━━━━━━━━━━━━━━┓\n",
       "┃<span style=\"font-weight: bold\"> Layer (type)                    </span>┃<span style=\"font-weight: bold\"> Output Shape           </span>┃<span style=\"font-weight: bold\">       Param # </span>┃\n",
       "┡━━━━━━━━━━━━━━━━━━━━━━━━━━━━━━━━━╇━━━━━━━━━━━━━━━━━━━━━━━━╇━━━━━━━━━━━━━━━┩\n",
       "│ conv2d_4 (<span style=\"color: #0087ff; text-decoration-color: #0087ff\">Conv2D</span>)               │ (<span style=\"color: #00d7ff; text-decoration-color: #00d7ff\">None</span>, <span style=\"color: #00af00; text-decoration-color: #00af00\">26</span>, <span style=\"color: #00af00; text-decoration-color: #00af00\">26</span>, <span style=\"color: #00af00; text-decoration-color: #00af00\">32</span>)     │           <span style=\"color: #00af00; text-decoration-color: #00af00\">320</span> │\n",
       "├─────────────────────────────────┼────────────────────────┼───────────────┤\n",
       "│ max_pooling2d_4 (<span style=\"color: #0087ff; text-decoration-color: #0087ff\">MaxPooling2D</span>)  │ (<span style=\"color: #00d7ff; text-decoration-color: #00d7ff\">None</span>, <span style=\"color: #00af00; text-decoration-color: #00af00\">13</span>, <span style=\"color: #00af00; text-decoration-color: #00af00\">13</span>, <span style=\"color: #00af00; text-decoration-color: #00af00\">32</span>)     │             <span style=\"color: #00af00; text-decoration-color: #00af00\">0</span> │\n",
       "├─────────────────────────────────┼────────────────────────┼───────────────┤\n",
       "│ conv2d_5 (<span style=\"color: #0087ff; text-decoration-color: #0087ff\">Conv2D</span>)               │ (<span style=\"color: #00d7ff; text-decoration-color: #00d7ff\">None</span>, <span style=\"color: #00af00; text-decoration-color: #00af00\">11</span>, <span style=\"color: #00af00; text-decoration-color: #00af00\">11</span>, <span style=\"color: #00af00; text-decoration-color: #00af00\">64</span>)     │        <span style=\"color: #00af00; text-decoration-color: #00af00\">18,496</span> │\n",
       "├─────────────────────────────────┼────────────────────────┼───────────────┤\n",
       "│ max_pooling2d_5 (<span style=\"color: #0087ff; text-decoration-color: #0087ff\">MaxPooling2D</span>)  │ (<span style=\"color: #00d7ff; text-decoration-color: #00d7ff\">None</span>, <span style=\"color: #00af00; text-decoration-color: #00af00\">5</span>, <span style=\"color: #00af00; text-decoration-color: #00af00\">5</span>, <span style=\"color: #00af00; text-decoration-color: #00af00\">64</span>)       │             <span style=\"color: #00af00; text-decoration-color: #00af00\">0</span> │\n",
       "├─────────────────────────────────┼────────────────────────┼───────────────┤\n",
       "│ flatten_2 (<span style=\"color: #0087ff; text-decoration-color: #0087ff\">Flatten</span>)             │ (<span style=\"color: #00d7ff; text-decoration-color: #00d7ff\">None</span>, <span style=\"color: #00af00; text-decoration-color: #00af00\">1600</span>)           │             <span style=\"color: #00af00; text-decoration-color: #00af00\">0</span> │\n",
       "├─────────────────────────────────┼────────────────────────┼───────────────┤\n",
       "│ dense_4 (<span style=\"color: #0087ff; text-decoration-color: #0087ff\">Dense</span>)                 │ (<span style=\"color: #00d7ff; text-decoration-color: #00d7ff\">None</span>, <span style=\"color: #00af00; text-decoration-color: #00af00\">128</span>)            │       <span style=\"color: #00af00; text-decoration-color: #00af00\">204,928</span> │\n",
       "├─────────────────────────────────┼────────────────────────┼───────────────┤\n",
       "│ dropout_1 (<span style=\"color: #0087ff; text-decoration-color: #0087ff\">Dropout</span>)             │ (<span style=\"color: #00d7ff; text-decoration-color: #00d7ff\">None</span>, <span style=\"color: #00af00; text-decoration-color: #00af00\">128</span>)            │             <span style=\"color: #00af00; text-decoration-color: #00af00\">0</span> │\n",
       "├─────────────────────────────────┼────────────────────────┼───────────────┤\n",
       "│ dense_5 (<span style=\"color: #0087ff; text-decoration-color: #0087ff\">Dense</span>)                 │ (<span style=\"color: #00d7ff; text-decoration-color: #00d7ff\">None</span>, <span style=\"color: #00af00; text-decoration-color: #00af00\">16</span>)             │         <span style=\"color: #00af00; text-decoration-color: #00af00\">2,064</span> │\n",
       "└─────────────────────────────────┴────────────────────────┴───────────────┘\n",
       "</pre>\n"
      ],
      "text/plain": [
       "┏━━━━━━━━━━━━━━━━━━━━━━━━━━━━━━━━━┳━━━━━━━━━━━━━━━━━━━━━━━━┳━━━━━━━━━━━━━━━┓\n",
       "┃\u001b[1m \u001b[0m\u001b[1mLayer (type)                   \u001b[0m\u001b[1m \u001b[0m┃\u001b[1m \u001b[0m\u001b[1mOutput Shape          \u001b[0m\u001b[1m \u001b[0m┃\u001b[1m \u001b[0m\u001b[1m      Param #\u001b[0m\u001b[1m \u001b[0m┃\n",
       "┡━━━━━━━━━━━━━━━━━━━━━━━━━━━━━━━━━╇━━━━━━━━━━━━━━━━━━━━━━━━╇━━━━━━━━━━━━━━━┩\n",
       "│ conv2d_4 (\u001b[38;5;33mConv2D\u001b[0m)               │ (\u001b[38;5;45mNone\u001b[0m, \u001b[38;5;34m26\u001b[0m, \u001b[38;5;34m26\u001b[0m, \u001b[38;5;34m32\u001b[0m)     │           \u001b[38;5;34m320\u001b[0m │\n",
       "├─────────────────────────────────┼────────────────────────┼───────────────┤\n",
       "│ max_pooling2d_4 (\u001b[38;5;33mMaxPooling2D\u001b[0m)  │ (\u001b[38;5;45mNone\u001b[0m, \u001b[38;5;34m13\u001b[0m, \u001b[38;5;34m13\u001b[0m, \u001b[38;5;34m32\u001b[0m)     │             \u001b[38;5;34m0\u001b[0m │\n",
       "├─────────────────────────────────┼────────────────────────┼───────────────┤\n",
       "│ conv2d_5 (\u001b[38;5;33mConv2D\u001b[0m)               │ (\u001b[38;5;45mNone\u001b[0m, \u001b[38;5;34m11\u001b[0m, \u001b[38;5;34m11\u001b[0m, \u001b[38;5;34m64\u001b[0m)     │        \u001b[38;5;34m18,496\u001b[0m │\n",
       "├─────────────────────────────────┼────────────────────────┼───────────────┤\n",
       "│ max_pooling2d_5 (\u001b[38;5;33mMaxPooling2D\u001b[0m)  │ (\u001b[38;5;45mNone\u001b[0m, \u001b[38;5;34m5\u001b[0m, \u001b[38;5;34m5\u001b[0m, \u001b[38;5;34m64\u001b[0m)       │             \u001b[38;5;34m0\u001b[0m │\n",
       "├─────────────────────────────────┼────────────────────────┼───────────────┤\n",
       "│ flatten_2 (\u001b[38;5;33mFlatten\u001b[0m)             │ (\u001b[38;5;45mNone\u001b[0m, \u001b[38;5;34m1600\u001b[0m)           │             \u001b[38;5;34m0\u001b[0m │\n",
       "├─────────────────────────────────┼────────────────────────┼───────────────┤\n",
       "│ dense_4 (\u001b[38;5;33mDense\u001b[0m)                 │ (\u001b[38;5;45mNone\u001b[0m, \u001b[38;5;34m128\u001b[0m)            │       \u001b[38;5;34m204,928\u001b[0m │\n",
       "├─────────────────────────────────┼────────────────────────┼───────────────┤\n",
       "│ dropout_1 (\u001b[38;5;33mDropout\u001b[0m)             │ (\u001b[38;5;45mNone\u001b[0m, \u001b[38;5;34m128\u001b[0m)            │             \u001b[38;5;34m0\u001b[0m │\n",
       "├─────────────────────────────────┼────────────────────────┼───────────────┤\n",
       "│ dense_5 (\u001b[38;5;33mDense\u001b[0m)                 │ (\u001b[38;5;45mNone\u001b[0m, \u001b[38;5;34m16\u001b[0m)             │         \u001b[38;5;34m2,064\u001b[0m │\n",
       "└─────────────────────────────────┴────────────────────────┴───────────────┘\n"
      ]
     },
     "metadata": {},
     "output_type": "display_data"
    },
    {
     "data": {
      "text/html": [
       "<pre style=\"white-space:pre;overflow-x:auto;line-height:normal;font-family:Menlo,'DejaVu Sans Mono',consolas,'Courier New',monospace\"><span style=\"font-weight: bold\"> Total params: </span><span style=\"color: #00af00; text-decoration-color: #00af00\">225,808</span> (882.06 KB)\n",
       "</pre>\n"
      ],
      "text/plain": [
       "\u001b[1m Total params: \u001b[0m\u001b[38;5;34m225,808\u001b[0m (882.06 KB)\n"
      ]
     },
     "metadata": {},
     "output_type": "display_data"
    },
    {
     "data": {
      "text/html": [
       "<pre style=\"white-space:pre;overflow-x:auto;line-height:normal;font-family:Menlo,'DejaVu Sans Mono',consolas,'Courier New',monospace\"><span style=\"font-weight: bold\"> Trainable params: </span><span style=\"color: #00af00; text-decoration-color: #00af00\">225,808</span> (882.06 KB)\n",
       "</pre>\n"
      ],
      "text/plain": [
       "\u001b[1m Trainable params: \u001b[0m\u001b[38;5;34m225,808\u001b[0m (882.06 KB)\n"
      ]
     },
     "metadata": {},
     "output_type": "display_data"
    },
    {
     "data": {
      "text/html": [
       "<pre style=\"white-space:pre;overflow-x:auto;line-height:normal;font-family:Menlo,'DejaVu Sans Mono',consolas,'Courier New',monospace\"><span style=\"font-weight: bold\"> Non-trainable params: </span><span style=\"color: #00af00; text-decoration-color: #00af00\">0</span> (0.00 B)\n",
       "</pre>\n"
      ],
      "text/plain": [
       "\u001b[1m Non-trainable params: \u001b[0m\u001b[38;5;34m0\u001b[0m (0.00 B)\n"
      ]
     },
     "metadata": {},
     "output_type": "display_data"
    }
   ],
   "source": [
    "# --------------------------\n",
    "# 5. Build CNN\n",
    "# --------------------------\n",
    "num_classes = len(class_map)\n",
    "\n",
    "model = models.Sequential([\n",
    "    layers.Conv2D(32, (3,3), activation=\"relu\", input_shape=(28,28,1)),\n",
    "    layers.MaxPooling2D((2,2)),\n",
    "    layers.Conv2D(64, (3,3), activation=\"relu\"),\n",
    "    layers.MaxPooling2D((2,2)),\n",
    "    layers.Flatten(),\n",
    "    layers.Dense(128, activation=\"relu\"),\n",
    "    layers.Dropout(0.5),\n",
    "    layers.Dense(num_classes, activation=\"softmax\")\n",
    "])\n",
    "\n",
    "model.compile(optimizer=\"adam\",\n",
    "              loss=\"sparse_categorical_crossentropy\",\n",
    "              metrics=[\"accuracy\"])\n",
    "\n",
    "model.summary()\n"
   ]
  },
  {
   "cell_type": "code",
   "execution_count": 26,
   "id": "4fcdd377",
   "metadata": {},
   "outputs": [
    {
     "name": "stdout",
     "output_type": "stream",
     "text": [
      "Epoch 1/15\n",
      "\u001b[1m115/127\u001b[0m \u001b[32m━━━━━━━━━━━━━━━━━━\u001b[0m\u001b[37m━━\u001b[0m \u001b[1m0s\u001b[0m 4ms/step - accuracy: 0.4273 - loss: 1.8226"
     ]
    },
    {
     "name": "stderr",
     "output_type": "stream",
     "text": [
      "2025-09-17 00:42:34.032382: I external/local_xla/xla/service/gpu/autotuning/dot_search_space.cc:208] All configs were filtered out because none of them sufficiently match the hints. Maybe the hints set does not contain a good representative set of valid configs? Working around this by using the full hints set instead.\n",
      "2025-09-17 00:42:34.239851: I external/local_xla/xla/stream_executor/cuda/subprocess_compilation.cc:346] ptxas warning : Registers are spilled to local memory in function 'gemm_fusion_dot_630', 4 bytes spill stores, 4 bytes spill loads\n",
      "\n",
      "2025-09-17 00:42:34.862031: I external/local_xla/xla/stream_executor/cuda/subprocess_compilation.cc:346] ptxas warning : Registers are spilled to local memory in function 'gemm_fusion_dot_856', 132 bytes spill stores, 132 bytes spill loads\n",
      "\n",
      "2025-09-17 00:42:34.999327: I external/local_xla/xla/stream_executor/cuda/subprocess_compilation.cc:346] ptxas warning : Registers are spilled to local memory in function 'gemm_fusion_dot_856', 272 bytes spill stores, 272 bytes spill loads\n",
      "\n"
     ]
    },
    {
     "name": "stdout",
     "output_type": "stream",
     "text": [
      "\u001b[1m127/127\u001b[0m \u001b[32m━━━━━━━━━━━━━━━━━━━━\u001b[0m\u001b[37m\u001b[0m \u001b[1m6s\u001b[0m 35ms/step - accuracy: 0.6324 - loss: 1.1868 - val_accuracy: 0.8835 - val_loss: 0.3918\n",
      "Epoch 2/15\n",
      "\u001b[1m127/127\u001b[0m \u001b[32m━━━━━━━━━━━━━━━━━━━━\u001b[0m\u001b[37m\u001b[0m \u001b[1m0s\u001b[0m 4ms/step - accuracy: 0.8527 - loss: 0.4783 - val_accuracy: 0.9345 - val_loss: 0.2423\n",
      "Epoch 3/15\n",
      "\u001b[1m127/127\u001b[0m \u001b[32m━━━━━━━━━━━━━━━━━━━━\u001b[0m\u001b[37m\u001b[0m \u001b[1m0s\u001b[0m 4ms/step - accuracy: 0.9053 - loss: 0.3194 - val_accuracy: 0.9523 - val_loss: 0.1695\n",
      "Epoch 4/15\n",
      "\u001b[1m127/127\u001b[0m \u001b[32m━━━━━━━━━━━━━━━━━━━━\u001b[0m\u001b[37m\u001b[0m \u001b[1m0s\u001b[0m 3ms/step - accuracy: 0.9238 - loss: 0.2479 - val_accuracy: 0.9567 - val_loss: 0.1416\n",
      "Epoch 5/15\n",
      "\u001b[1m127/127\u001b[0m \u001b[32m━━━━━━━━━━━━━━━━━━━━\u001b[0m\u001b[37m\u001b[0m \u001b[1m0s\u001b[0m 4ms/step - accuracy: 0.9359 - loss: 0.2059 - val_accuracy: 0.9678 - val_loss: 0.1199\n",
      "Epoch 6/15\n",
      "\u001b[1m127/127\u001b[0m \u001b[32m━━━━━━━━━━━━━━━━━━━━\u001b[0m\u001b[37m\u001b[0m \u001b[1m0s\u001b[0m 3ms/step - accuracy: 0.9419 - loss: 0.1819 - val_accuracy: 0.9711 - val_loss: 0.1015\n",
      "Epoch 7/15\n",
      "\u001b[1m127/127\u001b[0m \u001b[32m━━━━━━━━━━━━━━━━━━━━\u001b[0m\u001b[37m\u001b[0m \u001b[1m0s\u001b[0m 4ms/step - accuracy: 0.9508 - loss: 0.1527 - val_accuracy: 0.9756 - val_loss: 0.0905\n",
      "Epoch 8/15\n",
      "\u001b[1m127/127\u001b[0m \u001b[32m━━━━━━━━━━━━━━━━━━━━\u001b[0m\u001b[37m\u001b[0m \u001b[1m0s\u001b[0m 3ms/step - accuracy: 0.9563 - loss: 0.1423 - val_accuracy: 0.9723 - val_loss: 0.1009\n",
      "Epoch 9/15\n",
      "\u001b[1m127/127\u001b[0m \u001b[32m━━━━━━━━━━━━━━━━━━━━\u001b[0m\u001b[37m\u001b[0m \u001b[1m0s\u001b[0m 3ms/step - accuracy: 0.9609 - loss: 0.1161 - val_accuracy: 0.9745 - val_loss: 0.0821\n",
      "Epoch 10/15\n",
      "\u001b[1m127/127\u001b[0m \u001b[32m━━━━━━━━━━━━━━━━━━━━\u001b[0m\u001b[37m\u001b[0m \u001b[1m0s\u001b[0m 3ms/step - accuracy: 0.9629 - loss: 0.1093 - val_accuracy: 0.9767 - val_loss: 0.0781\n",
      "Epoch 11/15\n",
      "\u001b[1m127/127\u001b[0m \u001b[32m━━━━━━━━━━━━━━━━━━━━\u001b[0m\u001b[37m\u001b[0m \u001b[1m0s\u001b[0m 4ms/step - accuracy: 0.9639 - loss: 0.1104 - val_accuracy: 0.9778 - val_loss: 0.0772\n",
      "Epoch 12/15\n",
      "\u001b[1m127/127\u001b[0m \u001b[32m━━━━━━━━━━━━━━━━━━━━\u001b[0m\u001b[37m\u001b[0m \u001b[1m0s\u001b[0m 3ms/step - accuracy: 0.9684 - loss: 0.0915 - val_accuracy: 0.9811 - val_loss: 0.0693\n",
      "Epoch 13/15\n",
      "\u001b[1m127/127\u001b[0m \u001b[32m━━━━━━━━━━━━━━━━━━━━\u001b[0m\u001b[37m\u001b[0m \u001b[1m0s\u001b[0m 3ms/step - accuracy: 0.9713 - loss: 0.0894 - val_accuracy: 0.9689 - val_loss: 0.0914\n",
      "Epoch 14/15\n",
      "\u001b[1m127/127\u001b[0m \u001b[32m━━━━━━━━━━━━━━━━━━━━\u001b[0m\u001b[37m\u001b[0m \u001b[1m0s\u001b[0m 3ms/step - accuracy: 0.9755 - loss: 0.0749 - val_accuracy: 0.9756 - val_loss: 0.0872\n",
      "Epoch 15/15\n",
      "\u001b[1m127/127\u001b[0m \u001b[32m━━━━━━━━━━━━━━━━━━━━\u001b[0m\u001b[37m\u001b[0m \u001b[1m0s\u001b[0m 4ms/step - accuracy: 0.9710 - loss: 0.0829 - val_accuracy: 0.9767 - val_loss: 0.0839\n"
     ]
    }
   ],
   "source": [
    "# --------------------------\n",
    "# 6. Train Model\n",
    "# --------------------------\n",
    "history = model.fit(\n",
    "    X_train, y_train,\n",
    "    epochs=15,\n",
    "    batch_size=64,\n",
    "    validation_data=(X_val, y_val)\n",
    ")\n"
   ]
  },
  {
   "cell_type": "code",
   "execution_count": 27,
   "id": "031eff9f",
   "metadata": {},
   "outputs": [
    {
     "name": "stdout",
     "output_type": "stream",
     "text": [
      "✅ Model saved as hand2math_custom_cnn.keras\n"
     ]
    }
   ],
   "source": [
    "# --------------------------\n",
    "# 7. Save Model\n",
    "# --------------------------\n",
    "model.save(\"hand2math_custom_cnn.keras\")\n",
    "print(\"✅ Model saved as hand2math_custom_cnn.keras\")\n"
   ]
  },
  {
   "cell_type": "code",
   "execution_count": 28,
   "id": "d63c5af4",
   "metadata": {},
   "outputs": [
    {
     "name": "stdout",
     "output_type": "stream",
     "text": [
      "\u001b[1m1/1\u001b[0m \u001b[32m━━━━━━━━━━━━━━━━━━━━\u001b[0m\u001b[37m\u001b[0m \u001b[1m0s\u001b[0m 245ms/step\n",
      "\u001b[1m1/1\u001b[0m \u001b[32m━━━━━━━━━━━━━━━━━━━━\u001b[0m\u001b[37m\u001b[0m \u001b[1m0s\u001b[0m 27ms/step\n",
      "\u001b[1m1/1\u001b[0m \u001b[32m━━━━━━━━━━━━━━━━━━━━\u001b[0m\u001b[37m\u001b[0m \u001b[1m0s\u001b[0m 22ms/step\n",
      "\u001b[1m1/1\u001b[0m \u001b[32m━━━━━━━━━━━━━━━━━━━━\u001b[0m\u001b[37m\u001b[0m \u001b[1m0s\u001b[0m 22ms/step\n",
      "\u001b[1m1/1\u001b[0m \u001b[32m━━━━━━━━━━━━━━━━━━━━\u001b[0m\u001b[37m\u001b[0m \u001b[1m0s\u001b[0m 22ms/step\n",
      "\u001b[1m1/1\u001b[0m \u001b[32m━━━━━━━━━━━━━━━━━━━━\u001b[0m\u001b[37m\u001b[0m \u001b[1m0s\u001b[0m 22ms/step\n",
      "\u001b[1m1/1\u001b[0m \u001b[32m━━━━━━━━━━━━━━━━━━━━\u001b[0m\u001b[37m\u001b[0m \u001b[1m0s\u001b[0m 22ms/step\n",
      "\u001b[1m1/1\u001b[0m \u001b[32m━━━━━━━━━━━━━━━━━━━━\u001b[0m\u001b[37m\u001b[0m \u001b[1m0s\u001b[0m 22ms/step\n"
     ]
    },
    {
     "data": {
      "image/png": "[encoded data removed]",
      "text/plain": [
       "<Figure size 1200x400 with 8 Axes>"
      ]
     },
     "metadata": {},
     "output_type": "display_data"
    }
   ],
   "source": [
    "import random\n",
    "\n",
    "# Mapping back from numeric label → class name\n",
    "inv_class_map = {v:k for k,v in class_map.items()}\n",
    "\n",
    "plt.figure(figsize=(12,4))\n",
    "for i in range(8):  # show 8 random samples\n",
    "    idx = random.randint(0, len(X_val)-1)\n",
    "    img = X_val[idx]\n",
    "    true_label = inv_class_map[y_val[idx]]\n",
    "\n",
    "    # Predict\n",
    "    pred = model.predict(img.reshape(1,28,28,1))\n",
    "    pred_label = inv_class_map[np.argmax(pred)]\n",
    "\n",
    "    # Plot\n",
    "    plt.subplot(2,4,i+1)\n",
    "    plt.imshow(img.reshape(28,28), cmap=\"gray\")\n",
    "    plt.title(f\"True: {true_label}\\nPred: {pred_label}\")\n",
    "    plt.axis(\"off\")\n",
    "\n",
    "plt.suptitle(\"Model Predictions on Validation Samples\", fontsize=16)\n",
    "plt.show()\n"
   ]
  },
  {
   "cell_type": "code",
   "execution_count": 31,
   "id": "90c70342",
   "metadata": {},
   "outputs": [
    {
     "name": "stdout",
     "output_type": "stream",
     "text": [
      "\u001b[1m1/1\u001b[0m \u001b[32m━━━━━━━━━━━━━━━━━━━━\u001b[0m\u001b[37m\u001b[0m \u001b[1m0s\u001b[0m 22ms/step\n",
      "Predicted: mul\n"
     ]
    }
   ],
   "source": [
    "path = \"test1.png\"\n",
    "img = preprocess_symbol(path)  # use same preprocessing function\n",
    "pred = model.predict(img.reshape(1,28,28,1))\n",
    "print(\"Predicted:\", inv_class_map[np.argmax(pred)])\n"
   ]
  },
  {
   "cell_type": "code",
   "execution_count": 32,
   "id": "cfd58a8a",
   "metadata": {},
   "outputs": [],
   "source": [
    "def predict_equation(image_path, model, class_map):\n",
    "    # Load grayscale\n",
    "    img = cv2.imread(image_path, cv2.IMREAD_GRAYSCALE)\n",
    "    if img is None:\n",
    "        raise ValueError(f\"Image not found: {image_path}\")\n",
    "\n",
    "    # Invert if background is white\n",
    "    if np.mean(img) > 127:\n",
    "        img = 255 - img\n",
    "\n",
    "    # Threshold\n",
    "    _, thresh = cv2.threshold(img, 50, 255, cv2.THRESH_BINARY)\n",
    "\n",
    "    # Find contours (symbols)\n",
    "    contours, _ = cv2.findContours(thresh, cv2.RETR_EXTERNAL, cv2.CHAIN_APPROX_SIMPLE)\n",
    "\n",
    "    symbol_images = []\n",
    "    boxes = []\n",
    "\n",
    "    for cnt in contours:\n",
    "        x, y, w, h = cv2.boundingRect(cnt)\n",
    "        if w*h < 50:   # skip tiny noise\n",
    "            continue\n",
    "        roi = thresh[y:y+h, x:x+w]\n",
    "\n",
    "        # Resize like MNIST\n",
    "        roi = cv2.resize(roi, (20,20), interpolation=cv2.INTER_AREA)\n",
    "        padded = np.zeros((28,28), dtype=np.uint8)\n",
    "        x_offset = (28 - 20) // 2\n",
    "        y_offset = (28 - 20) // 2\n",
    "        padded[y_offset:y_offset+20, x_offset:x_offset+20] = roi\n",
    "        padded = padded.astype(\"float32\") / 255.0\n",
    "        padded = np.expand_dims(padded, -1)\n",
    "\n",
    "        symbol_images.append(padded)\n",
    "        boxes.append((x,y,w,h))\n",
    "\n",
    "    # Sort symbols left→right by x coordinate\n",
    "    symbols_sorted = [s for _,s in sorted(zip(boxes, symbol_images), key=lambda b: b[0][0])]\n",
    "\n",
    "    # Predict each symbol\n",
    "    inv_class_map = {v:k for k,v in class_map.items()}\n",
    "    expression = \"\"\n",
    "    for s in symbols_sorted:\n",
    "        pred = model.predict(s.reshape(1,28,28,1), verbose=0)\n",
    "        label = inv_class_map[np.argmax(pred)]\n",
    "        if label == \"add\":\n",
    "            expression += \"+\"\n",
    "        elif label == \"sub\":\n",
    "            expression += \"-\"\n",
    "        elif label == \"mul\":\n",
    "            expression += \"*\"\n",
    "        elif label == \"div\":\n",
    "            expression += \"/\"\n",
    "        elif label == \"equal\":\n",
    "            expression += \"=\"\n",
    "        elif label == \"dec\":\n",
    "            expression += \".\"\n",
    "        else:\n",
    "            expression += label\n",
    "\n",
    "    return expression\n"
   ]
  },
  {
   "cell_type": "code",
   "execution_count": 33,
   "id": "81a9cdf5",
   "metadata": {},
   "outputs": [
    {
     "name": "stdout",
     "output_type": "stream",
     "text": [
      "Detected: 2+2\n",
      "Result: 4\n"
     ]
    }
   ],
   "source": [
    "equation = predict_equation(\"test3.png\", model, class_map)\n",
    "print(\"Detected:\", equation)\n",
    "\n",
    "# Optionally evaluate (safely)\n",
    "try:\n",
    "    if \"=\" in equation:\n",
    "        lhs, rhs = equation.split(\"=\")\n",
    "        print(f\"{lhs} = {eval(lhs)} | RHS: {rhs}\")\n",
    "    else:\n",
    "        result = eval(equation)\n",
    "        print(\"Result:\", result)\n",
    "except Exception as e:\n",
    "    print(\"⚠️ Could not evaluate:\", e)\n"
   ]
  },
  {
   "cell_type": "code",
   "execution_count": 34,
   "id": "90d70a5b",
   "metadata": {},
   "outputs": [
    {
     "name": "stdout",
     "output_type": "stream",
     "text": [
      "Detected: 3*7*3\n",
      "Result: 63\n"
     ]
    }
   ],
   "source": [
    "equation = predict_equation(\"test4.png\", model, class_map)\n",
    "print(\"Detected:\", equation)\n",
    "\n",
    "# Optionally evaluate (safely)\n",
    "try:\n",
    "    if \"=\" in equation:\n",
    "        lhs, rhs = equation.split(\"=\")\n",
    "        print(f\"{lhs} = {eval(lhs)} | RHS: {rhs}\")\n",
    "    else:\n",
    "        result = eval(equation)\n",
    "        print(\"Result:\", result)\n",
    "except Exception as e:\n",
    "    print(\"⚠️ Could not evaluate:\", e)\n"
   ]
  },
  {
   "cell_type": "code",
   "execution_count": 35,
   "id": "51f0677f",
   "metadata": {},
   "outputs": [
    {
     "name": "stdout",
     "output_type": "stream",
     "text": [
      "Detected: 5+3*7\n",
      "Result: 26\n"
     ]
    }
   ],
   "source": [
    "equation = predict_equation(\"test5.png\", model, class_map)\n",
    "print(\"Detected:\", equation)\n",
    "\n",
    "# Optionally evaluate (safely)\n",
    "try:\n",
    "    if \"=\" in equation:\n",
    "        lhs, rhs = equation.split(\"=\")\n",
    "        print(f\"{lhs} = {eval(lhs)} | RHS: {rhs}\")\n",
    "    else:\n",
    "        result = eval(equation)\n",
    "        print(\"Result:\", result)\n",
    "except Exception as e:\n",
    "    print(\"⚠️ Could not evaluate:\", e)\n"
   ]
  },
  {
   "cell_type": "code",
   "execution_count": 36,
   "id": "4b509140",
   "metadata": {},
   "outputs": [
    {
     "name": "stdout",
     "output_type": "stream",
     "text": [
      "Detected: 7+3\n",
      "Result: 10\n"
     ]
    }
   ],
   "source": [
    "equation = predict_equation(\"test6.png\", model, class_map)\n",
    "print(\"Detected:\", equation)\n",
    "\n",
    "# Optionally evaluate (safely)\n",
    "try:\n",
    "    if \"=\" in equation:\n",
    "        lhs, rhs = equation.split(\"=\")\n",
    "        print(f\"{lhs} = {eval(lhs)} | RHS: {rhs}\")\n",
    "    else:\n",
    "        result = eval(equation)\n",
    "        print(\"Result:\", result)\n",
    "except Exception as e:\n",
    "    print(\"⚠️ Could not evaluate:\", e)\n"
   ]
  }
 ],
 "metadata": {
  "kernelspec": {
   "display_name": "venv",
   "language": "python",
   "name": "python3"
  },
  "language_info": {
   "codemirror_mode": {
    "name": "ipython",
    "version": 3
   },
   "file_extension": ".py",
   "mimetype": "text/x-python",
   "name": "python",
   "nbconvert_exporter": "python",
   "pygments_lexer": "ipython3",
   "version": "3.12.3"
  }
 },
 "nbformat": 4,
 "nbformat_minor": 5
}
